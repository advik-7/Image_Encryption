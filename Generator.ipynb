{
  "nbformat": 4,
  "nbformat_minor": 0,
  "metadata": {
    "colab": {
      "provenance": [],
      "authorship_tag": "ABX9TyMtY3RIsEYnC43/VEA1RJIj",
      "include_colab_link": true
    },
    "kernelspec": {
      "name": "python3",
      "display_name": "Python 3"
    },
    "language_info": {
      "name": "python"
    }
  },
  "cells": [
    {
      "cell_type": "markdown",
      "metadata": {
        "id": "view-in-github",
        "colab_type": "text"
      },
      "source": [
        "<a href=\"https://colab.research.google.com/github/advik-7/Image_Encryption/blob/main/Generator.ipynb\" target=\"_parent\"><img src=\"https://colab.research.google.com/assets/colab-badge.svg\" alt=\"Open In Colab\"/></a>"
      ]
    },
    {
      "cell_type": "code",
      "execution_count": null,
      "metadata": {
        "id": "RkaarGnprdz5"
      },
      "outputs": [],
      "source": [
        "import tensorflow as tf\n",
        "from tensorflow.keras import layers, Model\n",
        "\n",
        "def build_conditional_generator():\n",
        "    image_input = layers.Input(shape=(256, 256, 3))  # Image input\n",
        "    key_input = layers.Input(shape=(16,))  # Conditional key input (size 16)\n",
        "\n",
        "    key = layers.Dense(256 * 256)(key_input)\n",
        "    key = layers.Reshape((256, 256, 1))(key)\n",
        "\n",
        "    combined_input = layers.Concatenate()([image_input, key])\n",
        "\n",
        "    x = layers.Conv2D(64, kernel_size=4, strides=2, padding='same')(combined_input)\n",
        "    x = layers.ReLU()(x)\n",
        "    x = layers.Conv2D(128, kernel_size=4, strides=2, padding='same')(x)\n",
        "    x = layers.ReLU()(x)\n",
        "\n",
        "    x = layers.Conv2DTranspose(128, kernel_size=4, strides=2, padding='same')(x)\n",
        "    x = layers.ReLU()(x)\n",
        "    x = layers.Conv2DTranspose(64, kernel_size=4, strides=2, padding='same')(x)\n",
        "    x = layers.ReLU()(x)\n",
        "\n",
        "    output_image = layers.Conv2D(3, kernel_size=7, strides=1, padding='same', activation='tanh')(x)\n",
        "\n",
        "    return Model([image_input, key_input], output_image)"
      ]
    }
  ]
}