{
  "nbformat": 4,
  "nbformat_minor": 0,
  "metadata": {
    "colab": {
      "provenance": [],
      "authorship_tag": "ABX9TyPuAviF9R+26kNsoGSIBVkA",
      "include_colab_link": true
    },
    "kernelspec": {
      "name": "python3",
      "display_name": "Python 3"
    },
    "language_info": {
      "name": "python"
    }
  },
  "cells": [
    {
      "cell_type": "markdown",
      "metadata": {
        "id": "view-in-github",
        "colab_type": "text"
      },
      "source": [
        "<a href=\"https://colab.research.google.com/github/advik-7/Image_Encryption/blob/main/CCGenerator.ipynb\" target=\"_parent\"><img src=\"https://colab.research.google.com/assets/colab-badge.svg\" alt=\"Open In Colab\"/></a>"
      ]
    },
    {
      "cell_type": "code",
      "source": [
        "import tensorflow as tf\n",
        "from tensorflow.keras import layers, Model\n",
        "\n",
        "# --- Combined Generator Function ---\n",
        "def conditional_cyclic_generator():\n",
        "    # --- 1. Build the Generator Model ---\n",
        "    def build_generator():\n",
        "        image_input = layers.Input(shape=(256, 256, 3))  # Image input\n",
        "        key_input = layers.Input(shape=(16,))  # Conditional key input (size 16)\n",
        "\n",
        "        # Process the key and map it to spatial format\n",
        "        key = layers.Dense(256 * 256)(key_input)\n",
        "        key = layers.Reshape((256, 256, 1))(key)  # Reshape to match image dimensions\n",
        "\n",
        "        # Concatenate the image and the key\n",
        "        combined_input = layers.Concatenate()([image_input, key])\n",
        "\n",
        "        # Encoder: Downsampling layers\n",
        "        x = layers.Conv2D(64, kernel_size=4, strides=2, padding='same')(combined_input)\n",
        "        x = layers.ReLU()(x)\n",
        "        x = layers.Conv2D(128, kernel_size=4, strides=2, padding='same')(x)\n",
        "        x = layers.ReLU()(x)\n",
        "\n",
        "        # Decoder: Upsample back to image dimensions\n",
        "        x = layers.Conv2DTranspose(128, kernel_size=4, strides=2, padding='same')(x)\n",
        "        x = layers.ReLU()(x)\n",
        "        x = layers.Conv2DTranspose(64, kernel_size=4, strides=2, padding='same')(x)\n",
        "        x = layers.ReLU()(x)\n",
        "\n",
        "        # Output encrypted image\n",
        "        output_image = layers.Conv2D(3, kernel_size=7, strides=1, padding='same', activation='tanh')(x)\n",
        "\n",
        "        return Model([image_input, key_input], output_image)\n",
        "\n",
        "    # Loss Functions\n",
        "    mae_loss = tf.keras.losses.MeanAbsoluteError()\n",
        "\n",
        "    def cycle_consistency_loss(real_image, cycled_image):\n",
        "        return mae_loss(real_image, cycled_image)\n",
        "\n",
        "    # Optimize\n",
        "    optimizer = tf.keras.optimizers.Adam(2e-4, beta_1=0.5)\n",
        "    # Training Step\n",
        "    def train_step(generator, real_image, key):\n",
        "        with tf.GradientTape() as tape:\n",
        "            # Encrypt the real image\n",
        "            encrypted_image = generator([real_image, key], training=True)\n",
        "\n",
        "            # cycle consistency\n",
        "            decrypted_image = generator([encrypted_image, key], training=True)\n",
        "\n",
        "            # cycle-consistency loss\n",
        "            cycle_loss = cycle_consistency_loss(real_image, decrypted_image)\n",
        "\n",
        "        gradients = tape.gradient(cycle_loss, generator.trainable_variables)\n",
        "        optimizer.apply_gradients(zip(gradients, generator.trainable_variables))\n",
        "\n",
        "        return cycle_loss\n"
      ],
      "metadata": {
        "id": "tm1jdRQey4f1"
      },
      "execution_count": null,
      "outputs": []
    }
  ]
}