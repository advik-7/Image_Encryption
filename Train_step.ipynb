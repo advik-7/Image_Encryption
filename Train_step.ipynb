{
  "nbformat": 4,
  "nbformat_minor": 0,
  "metadata": {
    "colab": {
      "provenance": [],
      "authorship_tag": "ABX9TyOVQB16YmXLlbS3aB5QGYnf",
      "include_colab_link": true
    },
    "kernelspec": {
      "name": "python3",
      "display_name": "Python 3"
    },
    "language_info": {
      "name": "python"
    }
  },
  "cells": [
    {
      "cell_type": "markdown",
      "metadata": {
        "id": "view-in-github",
        "colab_type": "text"
      },
      "source": [
        "<a href=\"https://colab.research.google.com/github/advik-7/Image_Encryption/blob/main/Train_step.ipynb\" target=\"_parent\"><img src=\"https://colab.research.google.com/assets/colab-badge.svg\" alt=\"Open In Colab\"/></a>"
      ]
    },
    {
      "cell_type": "code",
      "execution_count": null,
      "metadata": {
        "id": "GDg1ZQ0wb9Ly"
      },
      "outputs": [],
      "source": [
        "    def train_step(generator, real_image, data):\n",
        "        key = generate_sha256_key(data)\n",
        "\n",
        "        with tf.GradientTape() as tape:\n",
        "            encrypted_image = generator([real_image, key], training=True)\n",
        "\n",
        "            decrypted_image = generator([encrypted_image, key], training=True)\n",
        "\n",
        "            cycle_loss = cycle_consistency_loss(real_image, decrypted_image)\n",
        "\n",
        "        gradients = tape.gradient(cycle_loss, generator.trainable_variables)\n",
        "        optimizer.apply_gradients(zip(gradients, generator.trainable_variables))\n"
      ]
    }
  ]
}