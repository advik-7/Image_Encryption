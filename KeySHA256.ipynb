{
  "nbformat": 4,
  "nbformat_minor": 0,
  "metadata": {
    "colab": {
      "provenance": [],
      "authorship_tag": "ABX9TyMhWTBgtddJECwy60b1BPJB",
      "include_colab_link": true
    },
    "kernelspec": {
      "name": "python3",
      "display_name": "Python 3"
    },
    "language_info": {
      "name": "python"
    }
  },
  "cells": [
    {
      "cell_type": "markdown",
      "metadata": {
        "id": "view-in-github",
        "colab_type": "text"
      },
      "source": [
        "<a href=\"https://colab.research.google.com/github/advik-7/Image_Encryption/blob/main/KeySHA256.ipynb\" target=\"_parent\"><img src=\"https://colab.research.google.com/assets/colab-badge.svg\" alt=\"Open In Colab\"/></a>"
      ]
    },
    {
      "cell_type": "code",
      "execution_count": 1,
      "metadata": {
        "id": "8GZL6OkWYv3T"
      },
      "outputs": [],
      "source": [
        "import tensorflow as tf\n",
        "from tensorflow.keras import layers, Model\n",
        "import hashlib\n",
        "import numpy as np\n",
        "\n",
        "# Function to generate a SHA-256 hash key\n",
        "def generate_sha256_key(data):\n",
        "    #  data is a  image array\n",
        "    if isinstance(data, str):\n",
        "        data_bytes = data.encode('utf-8')\n",
        "    elif isinstance(data, np.ndarray):\n",
        "        data_bytes = data.tobytes()\n",
        "    else:\n",
        "        raise ValueError(\"Unsupported data type for hashing.\")\n",
        "\n",
        "    # Generate SHA-256 hash\n",
        "    hash_object = hashlib.sha256(data_bytes)\n",
        "    key = hash_object.digest()  # Get the binary hash\n",
        "    return np.frombuffer(key, dtype=np.uint8)[:16]  # Use the first 16 bytes as the key\n"
      ]
    },
    {
      "cell_type": "code",
      "source": [],
      "metadata": {
        "id": "-x4gqT7raHuw"
      },
      "execution_count": null,
      "outputs": []
    }
  ]
}